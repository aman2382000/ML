{
 "cells": [
  {
   "cell_type": "code",
   "execution_count": 59,
   "metadata": {},
   "outputs": [],
   "source": [
    "import pandas as pd\n",
    "import numpy as np\n",
    "import matplotlib.pyplot as plt"
   ]
  },
  {
   "cell_type": "code",
   "execution_count": 60,
   "metadata": {},
   "outputs": [],
   "source": [
    "df = pd.read_csv(\"tictactoe.data.csv\")"
   ]
  },
  {
   "cell_type": "code",
   "execution_count": 61,
   "metadata": {},
   "outputs": [
    {
     "data": {
      "text/html": [
       "<div>\n",
       "<style scoped>\n",
       "    .dataframe tbody tr th:only-of-type {\n",
       "        vertical-align: middle;\n",
       "    }\n",
       "\n",
       "    .dataframe tbody tr th {\n",
       "        vertical-align: top;\n",
       "    }\n",
       "\n",
       "    .dataframe thead th {\n",
       "        text-align: right;\n",
       "    }\n",
       "</style>\n",
       "<table border=\"1\" class=\"dataframe\">\n",
       "  <thead>\n",
       "    <tr style=\"text-align: right;\">\n",
       "      <th></th>\n",
       "      <th>1</th>\n",
       "      <th>2</th>\n",
       "      <th>3</th>\n",
       "      <th>4</th>\n",
       "      <th>5</th>\n",
       "      <th>6</th>\n",
       "      <th>7</th>\n",
       "      <th>8</th>\n",
       "      <th>9</th>\n",
       "      <th>Result</th>\n",
       "    </tr>\n",
       "  </thead>\n",
       "  <tbody>\n",
       "    <tr>\n",
       "      <th>0</th>\n",
       "      <td>x</td>\n",
       "      <td>x</td>\n",
       "      <td>x</td>\n",
       "      <td>x</td>\n",
       "      <td>o</td>\n",
       "      <td>o</td>\n",
       "      <td>x</td>\n",
       "      <td>o</td>\n",
       "      <td>o</td>\n",
       "      <td>positive</td>\n",
       "    </tr>\n",
       "    <tr>\n",
       "      <th>1</th>\n",
       "      <td>x</td>\n",
       "      <td>x</td>\n",
       "      <td>x</td>\n",
       "      <td>x</td>\n",
       "      <td>o</td>\n",
       "      <td>o</td>\n",
       "      <td>o</td>\n",
       "      <td>x</td>\n",
       "      <td>o</td>\n",
       "      <td>positive</td>\n",
       "    </tr>\n",
       "    <tr>\n",
       "      <th>2</th>\n",
       "      <td>x</td>\n",
       "      <td>x</td>\n",
       "      <td>x</td>\n",
       "      <td>x</td>\n",
       "      <td>o</td>\n",
       "      <td>o</td>\n",
       "      <td>o</td>\n",
       "      <td>o</td>\n",
       "      <td>x</td>\n",
       "      <td>positive</td>\n",
       "    </tr>\n",
       "    <tr>\n",
       "      <th>3</th>\n",
       "      <td>x</td>\n",
       "      <td>x</td>\n",
       "      <td>x</td>\n",
       "      <td>x</td>\n",
       "      <td>o</td>\n",
       "      <td>o</td>\n",
       "      <td>o</td>\n",
       "      <td>b</td>\n",
       "      <td>b</td>\n",
       "      <td>positive</td>\n",
       "    </tr>\n",
       "    <tr>\n",
       "      <th>4</th>\n",
       "      <td>x</td>\n",
       "      <td>x</td>\n",
       "      <td>x</td>\n",
       "      <td>x</td>\n",
       "      <td>o</td>\n",
       "      <td>o</td>\n",
       "      <td>b</td>\n",
       "      <td>o</td>\n",
       "      <td>b</td>\n",
       "      <td>positive</td>\n",
       "    </tr>\n",
       "  </tbody>\n",
       "</table>\n",
       "</div>"
      ],
      "text/plain": [
       "   1  2  3  4  5  6  7  8  9    Result\n",
       "0  x  x  x  x  o  o  x  o  o  positive\n",
       "1  x  x  x  x  o  o  o  x  o  positive\n",
       "2  x  x  x  x  o  o  o  o  x  positive\n",
       "3  x  x  x  x  o  o  o  b  b  positive\n",
       "4  x  x  x  x  o  o  b  o  b  positive"
      ]
     },
     "execution_count": 61,
     "metadata": {},
     "output_type": "execute_result"
    }
   ],
   "source": [
    "df.head()"
   ]
  },
  {
   "cell_type": "code",
   "execution_count": 62,
   "metadata": {},
   "outputs": [],
   "source": [
    "from sklearn.preprocessing import LabelEncoder"
   ]
  },
  {
   "cell_type": "code",
   "execution_count": 63,
   "metadata": {},
   "outputs": [],
   "source": [
    "le = LabelEncoder()"
   ]
  },
  {
   "cell_type": "code",
   "execution_count": 64,
   "metadata": {},
   "outputs": [
    {
     "name": "stdout",
     "output_type": "stream",
     "text": [
      "Result\n"
     ]
    }
   ],
   "source": [
    "for i in df.columns:\n",
    "    df[i] = le.fit_transform(df[i])\n",
    "print(i)"
   ]
  },
  {
   "cell_type": "code",
   "execution_count": 66,
   "metadata": {},
   "outputs": [
    {
     "data": {
      "text/html": [
       "<div>\n",
       "<style scoped>\n",
       "    .dataframe tbody tr th:only-of-type {\n",
       "        vertical-align: middle;\n",
       "    }\n",
       "\n",
       "    .dataframe tbody tr th {\n",
       "        vertical-align: top;\n",
       "    }\n",
       "\n",
       "    .dataframe thead th {\n",
       "        text-align: right;\n",
       "    }\n",
       "</style>\n",
       "<table border=\"1\" class=\"dataframe\">\n",
       "  <thead>\n",
       "    <tr style=\"text-align: right;\">\n",
       "      <th></th>\n",
       "      <th>1</th>\n",
       "      <th>2</th>\n",
       "      <th>3</th>\n",
       "      <th>4</th>\n",
       "      <th>5</th>\n",
       "      <th>6</th>\n",
       "      <th>7</th>\n",
       "      <th>8</th>\n",
       "      <th>9</th>\n",
       "    </tr>\n",
       "  </thead>\n",
       "  <tbody>\n",
       "    <tr>\n",
       "      <th>0</th>\n",
       "      <td>2</td>\n",
       "      <td>2</td>\n",
       "      <td>2</td>\n",
       "      <td>2</td>\n",
       "      <td>1</td>\n",
       "      <td>1</td>\n",
       "      <td>2</td>\n",
       "      <td>1</td>\n",
       "      <td>1</td>\n",
       "    </tr>\n",
       "    <tr>\n",
       "      <th>1</th>\n",
       "      <td>2</td>\n",
       "      <td>2</td>\n",
       "      <td>2</td>\n",
       "      <td>2</td>\n",
       "      <td>1</td>\n",
       "      <td>1</td>\n",
       "      <td>1</td>\n",
       "      <td>2</td>\n",
       "      <td>1</td>\n",
       "    </tr>\n",
       "    <tr>\n",
       "      <th>2</th>\n",
       "      <td>2</td>\n",
       "      <td>2</td>\n",
       "      <td>2</td>\n",
       "      <td>2</td>\n",
       "      <td>1</td>\n",
       "      <td>1</td>\n",
       "      <td>1</td>\n",
       "      <td>1</td>\n",
       "      <td>2</td>\n",
       "    </tr>\n",
       "    <tr>\n",
       "      <th>3</th>\n",
       "      <td>2</td>\n",
       "      <td>2</td>\n",
       "      <td>2</td>\n",
       "      <td>2</td>\n",
       "      <td>1</td>\n",
       "      <td>1</td>\n",
       "      <td>1</td>\n",
       "      <td>0</td>\n",
       "      <td>0</td>\n",
       "    </tr>\n",
       "    <tr>\n",
       "      <th>4</th>\n",
       "      <td>2</td>\n",
       "      <td>2</td>\n",
       "      <td>2</td>\n",
       "      <td>2</td>\n",
       "      <td>1</td>\n",
       "      <td>1</td>\n",
       "      <td>0</td>\n",
       "      <td>1</td>\n",
       "      <td>0</td>\n",
       "    </tr>\n",
       "  </tbody>\n",
       "</table>\n",
       "</div>"
      ],
      "text/plain": [
       "   1  2  3  4  5  6  7  8  9\n",
       "0  2  2  2  2  1  1  2  1  1\n",
       "1  2  2  2  2  1  1  1  2  1\n",
       "2  2  2  2  2  1  1  1  1  2\n",
       "3  2  2  2  2  1  1  1  0  0\n",
       "4  2  2  2  2  1  1  0  1  0"
      ]
     },
     "execution_count": 66,
     "metadata": {},
     "output_type": "execute_result"
    }
   ],
   "source": [
    "x = df.iloc[:,:-1]\n",
    "y = df.iloc[:,-1]\n",
    "x.head()"
   ]
  },
  {
   "cell_type": "code",
   "execution_count": 67,
   "metadata": {},
   "outputs": [],
   "source": [
    "from sklearn.model_selection import train_test_split"
   ]
  },
  {
   "cell_type": "code",
   "execution_count": 68,
   "metadata": {},
   "outputs": [],
   "source": [
    "x_train,x_test,y_train,y_test = train_test_split(x,y,test_size = 0.3,random_state = 42)"
   ]
  },
  {
   "cell_type": "code",
   "execution_count": 69,
   "metadata": {},
   "outputs": [],
   "source": [
    "import keras\n",
    "from keras.models import Sequential \n",
    "from keras.layers import Dense\n",
    "from keras.optimizers import SGD,Adam"
   ]
  },
  {
   "cell_type": "code",
   "execution_count": 70,
   "metadata": {},
   "outputs": [
    {
     "data": {
      "text/plain": [
       "<seaborn.axisgrid.PairGrid at 0xcbe1858be0>"
      ]
     },
     "execution_count": 70,
     "metadata": {},
     "output_type": "execute_result"
    },
    {
     "data": {
      "image/png": "[encoded data removed]",
      "text/plain": [
       "<Figure size 1842.38x1800 with 110 Axes>"
      ]
     },
     "metadata": {},
     "output_type": "display_data"
    }
   ],
   "source": [
    "import seaborn as sns\n",
    "sns.pairplot(df,hue='Result')"
   ]
  },
  {
   "cell_type": "code",
   "execution_count": 71,
   "metadata": {},
   "outputs": [
    {
     "data": {
      "text/plain": [
       "1    626\n",
       "0    332\n",
       "Name: Result, dtype: int64"
      ]
     },
     "execution_count": 71,
     "metadata": {},
     "output_type": "execute_result"
    }
   ],
   "source": [
    "df['Result'].value_counts()"
   ]
  },
  {
   "cell_type": "code",
   "execution_count": 72,
   "metadata": {},
   "outputs": [],
   "source": [
    "model = Sequential()\n",
    "model.add(Dense(1,input_shape=(9,),activation = 'sigmoid'))\n",
    "model.compile(loss='binary_crossentropy',optimizer = 'sgd',metrics = ['accuracy'])"
   ]
  },
  {
   "cell_type": "code",
   "execution_count": 73,
   "metadata": {},
   "outputs": [
    {
     "name": "stdout",
     "output_type": "stream",
     "text": [
      "Epoch 1/100\n",
      "670/670 [==============================] - 2s 2ms/step - loss: 0.8340 - acc: 0.4701\n",
      "Epoch 2/100\n",
      "670/670 [==============================] - 0s 55us/step - loss: 0.7947 - acc: 0.4985\n",
      "Epoch 3/100\n",
      "670/670 [==============================] - 0s 108us/step - loss: 0.7781 - acc: 0.5254\n",
      "Epoch 4/100\n",
      "670/670 [==============================] - 0s 60us/step - loss: 0.7670 - acc: 0.5299\n",
      "Epoch 5/100\n",
      "670/670 [==============================] - 0s 64us/step - loss: 0.7585 - acc: 0.5358\n",
      "Epoch 6/100\n",
      "670/670 [==============================] - 0s 58us/step - loss: 0.7509 - acc: 0.5463\n",
      "Epoch 7/100\n",
      "670/670 [==============================] - 0s 69us/step - loss: 0.7438 - acc: 0.5478\n",
      "Epoch 8/100\n",
      "670/670 [==============================] - 0s 66us/step - loss: 0.7369 - acc: 0.5478\n",
      "Epoch 9/100\n",
      "670/670 [==============================] - 0s 61us/step - loss: 0.7304 - acc: 0.5552\n",
      "Epoch 10/100\n",
      "670/670 [==============================] - 0s 67us/step - loss: 0.7241 - acc: 0.5567\n",
      "Epoch 11/100\n",
      "670/670 [==============================] - 0s 70us/step - loss: 0.7181 - acc: 0.5612\n",
      "Epoch 12/100\n",
      "670/670 [==============================] - 0s 67us/step - loss: 0.7131 - acc: 0.5597\n",
      "Epoch 13/100\n",
      "670/670 [==============================] - 0s 64us/step - loss: 0.7069 - acc: 0.5642\n",
      "Epoch 14/100\n",
      "670/670 [==============================] - 0s 63us/step - loss: 0.7020 - acc: 0.5657\n",
      "Epoch 15/100\n",
      "670/670 [==============================] - 0s 63us/step - loss: 0.6971 - acc: 0.5701\n",
      "Epoch 16/100\n",
      "670/670 [==============================] - 0s 69us/step - loss: 0.6927 - acc: 0.5642\n",
      "Epoch 17/100\n",
      "670/670 [==============================] - 0s 64us/step - loss: 0.6886 - acc: 0.5791\n",
      "Epoch 18/100\n",
      "670/670 [==============================] - 0s 64us/step - loss: 0.6841 - acc: 0.5791\n",
      "Epoch 19/100\n",
      "670/670 [==============================] - 0s 63us/step - loss: 0.6802 - acc: 0.5881\n",
      "Epoch 20/100\n",
      "670/670 [==============================] - 0s 64us/step - loss: 0.6764 - acc: 0.5881\n",
      "Epoch 21/100\n",
      "670/670 [==============================] - 0s 64us/step - loss: 0.6731 - acc: 0.5866\n",
      "Epoch 22/100\n",
      "670/670 [==============================] - 0s 58us/step - loss: 0.6693 - acc: 0.5970\n",
      "Epoch 23/100\n",
      "670/670 [==============================] - 0s 54us/step - loss: 0.6664 - acc: 0.5985\n",
      "Epoch 24/100\n",
      "670/670 [==============================] - 0s 64us/step - loss: 0.6633 - acc: 0.6000\n",
      "Epoch 25/100\n",
      "670/670 [==============================] - 0s 64us/step - loss: 0.6603 - acc: 0.6045\n",
      "Epoch 26/100\n",
      "670/670 [==============================] - 0s 64us/step - loss: 0.6577 - acc: 0.6119\n",
      "Epoch 27/100\n",
      "670/670 [==============================] - 0s 63us/step - loss: 0.6556 - acc: 0.6209\n",
      "Epoch 28/100\n",
      "670/670 [==============================] - 0s 60us/step - loss: 0.6527 - acc: 0.6224\n",
      "Epoch 29/100\n",
      "670/670 [==============================] - 0s 61us/step - loss: 0.6504 - acc: 0.6299\n",
      "Epoch 30/100\n",
      "670/670 [==============================] - 0s 63us/step - loss: 0.6485 - acc: 0.6299\n",
      "Epoch 31/100\n",
      "670/670 [==============================] - 0s 57us/step - loss: 0.6463 - acc: 0.6269\n",
      "Epoch 32/100\n",
      "670/670 [==============================] - 0s 63us/step - loss: 0.6445 - acc: 0.6299\n",
      "Epoch 33/100\n",
      "670/670 [==============================] - 0s 60us/step - loss: 0.6426 - acc: 0.6328\n",
      "Epoch 34/100\n",
      "670/670 [==============================] - 0s 57us/step - loss: 0.6409 - acc: 0.6343\n",
      "Epoch 35/100\n",
      "670/670 [==============================] - 0s 61us/step - loss: 0.6392 - acc: 0.6403\n",
      "Epoch 36/100\n",
      "670/670 [==============================] - 0s 58us/step - loss: 0.6381 - acc: 0.6388\n",
      "Epoch 37/100\n",
      "670/670 [==============================] - 0s 57us/step - loss: 0.6362 - acc: 0.6418\n",
      "Epoch 38/100\n",
      "670/670 [==============================] - 0s 60us/step - loss: 0.6350 - acc: 0.6507\n",
      "Epoch 39/100\n",
      "670/670 [==============================] - 0s 57us/step - loss: 0.6335 - acc: 0.6463\n",
      "Epoch 40/100\n",
      "670/670 [==============================] - 0s 55us/step - loss: 0.6326 - acc: 0.6493\n",
      "Epoch 41/100\n",
      "670/670 [==============================] - 0s 64us/step - loss: 0.6315 - acc: 0.6478\n",
      "Epoch 42/100\n",
      "670/670 [==============================] - 0s 63us/step - loss: 0.6302 - acc: 0.6478\n",
      "Epoch 43/100\n",
      "670/670 [==============================] - 0s 60us/step - loss: 0.6296 - acc: 0.6522\n",
      "Epoch 44/100\n",
      "670/670 [==============================] - 0s 58us/step - loss: 0.6283 - acc: 0.6597\n",
      "Epoch 45/100\n",
      "670/670 [==============================] - 0s 61us/step - loss: 0.6274 - acc: 0.6627\n",
      "Epoch 46/100\n",
      "670/670 [==============================] - 0s 58us/step - loss: 0.6268 - acc: 0.6612\n",
      "Epoch 47/100\n",
      "670/670 [==============================] - 0s 60us/step - loss: 0.6259 - acc: 0.6642\n",
      "Epoch 48/100\n",
      "670/670 [==============================] - 0s 55us/step - loss: 0.6254 - acc: 0.6657\n",
      "Epoch 49/100\n",
      "670/670 [==============================] - 0s 63us/step - loss: 0.6246 - acc: 0.6657\n",
      "Epoch 50/100\n",
      "670/670 [==============================] - 0s 60us/step - loss: 0.6237 - acc: 0.6612\n",
      "Epoch 51/100\n",
      "670/670 [==============================] - 0s 73us/step - loss: 0.6231 - acc: 0.6657\n",
      "Epoch 52/100\n",
      "670/670 [==============================] - 0s 55us/step - loss: 0.6225 - acc: 0.6642\n",
      "Epoch 53/100\n",
      "670/670 [==============================] - 0s 49us/step - loss: 0.6219 - acc: 0.6657\n",
      "Epoch 54/100\n",
      "670/670 [==============================] - 0s 54us/step - loss: 0.6214 - acc: 0.6642\n",
      "Epoch 55/100\n",
      "670/670 [==============================] - 0s 46us/step - loss: 0.6212 - acc: 0.6687\n",
      "Epoch 56/100\n",
      "670/670 [==============================] - 0s 57us/step - loss: 0.6204 - acc: 0.6672\n",
      "Epoch 57/100\n",
      "670/670 [==============================] - 0s 49us/step - loss: 0.6200 - acc: 0.6657\n",
      "Epoch 58/100\n",
      "670/670 [==============================] - 0s 66us/step - loss: 0.6197 - acc: 0.6672\n",
      "Epoch 59/100\n",
      "670/670 [==============================] - 0s 52us/step - loss: 0.6192 - acc: 0.6687\n",
      "Epoch 60/100\n",
      "670/670 [==============================] - 0s 54us/step - loss: 0.6192 - acc: 0.6657\n",
      "Epoch 61/100\n",
      "670/670 [==============================] - 0s 55us/step - loss: 0.6185 - acc: 0.6657\n",
      "Epoch 62/100\n",
      "670/670 [==============================] - 0s 60us/step - loss: 0.6182 - acc: 0.6657\n",
      "Epoch 63/100\n",
      "670/670 [==============================] - 0s 61us/step - loss: 0.6182 - acc: 0.6701\n",
      "Epoch 64/100\n",
      "670/670 [==============================] - 0s 61us/step - loss: 0.6175 - acc: 0.6672\n",
      "Epoch 65/100\n",
      "670/670 [==============================] - 0s 54us/step - loss: 0.6176 - acc: 0.6776\n",
      "Epoch 66/100\n",
      "670/670 [==============================] - 0s 61us/step - loss: 0.6170 - acc: 0.6716\n",
      "Epoch 67/100\n",
      "670/670 [==============================] - 0s 52us/step - loss: 0.6169 - acc: 0.6716\n",
      "Epoch 68/100\n",
      "670/670 [==============================] - 0s 66us/step - loss: 0.6171 - acc: 0.6687\n",
      "Epoch 69/100\n",
      "670/670 [==============================] - 0s 54us/step - loss: 0.6164 - acc: 0.6746\n",
      "Epoch 70/100\n",
      "670/670 [==============================] - 0s 67us/step - loss: 0.6162 - acc: 0.6716\n",
      "Epoch 71/100\n",
      "670/670 [==============================] - 0s 49us/step - loss: 0.6163 - acc: 0.6731\n",
      "Epoch 72/100\n",
      "670/670 [==============================] - 0s 52us/step - loss: 0.6163 - acc: 0.6687\n",
      "Epoch 73/100\n",
      "670/670 [==============================] - 0s 61us/step - loss: 0.6156 - acc: 0.6791\n",
      "Epoch 74/100\n",
      "670/670 [==============================] - 0s 51us/step - loss: 0.6156 - acc: 0.6716\n",
      "Epoch 75/100\n",
      "670/670 [==============================] - 0s 64us/step - loss: 0.6154 - acc: 0.6791\n",
      "Epoch 76/100\n",
      "670/670 [==============================] - 0s 55us/step - loss: 0.6152 - acc: 0.6761\n",
      "Epoch 77/100\n",
      "670/670 [==============================] - 0s 58us/step - loss: 0.6153 - acc: 0.6776\n",
      "Epoch 78/100\n",
      "670/670 [==============================] - 0s 57us/step - loss: 0.6154 - acc: 0.6776\n",
      "Epoch 79/100\n",
      "670/670 [==============================] - 0s 55us/step - loss: 0.6150 - acc: 0.6821\n",
      "Epoch 80/100\n",
      "670/670 [==============================] - 0s 60us/step - loss: 0.6147 - acc: 0.6761\n",
      "Epoch 81/100\n",
      "670/670 [==============================] - 0s 55us/step - loss: 0.6148 - acc: 0.6791\n",
      "Epoch 82/100\n",
      "670/670 [==============================] - 0s 67us/step - loss: 0.6145 - acc: 0.6821\n",
      "Epoch 83/100\n",
      "670/670 [==============================] - 0s 54us/step - loss: 0.6146 - acc: 0.6836\n",
      "Epoch 84/100\n"
     ]
    },
    {
     "name": "stdout",
     "output_type": "stream",
     "text": [
      "670/670 [==============================] - 0s 58us/step - loss: 0.6144 - acc: 0.6821\n",
      "Epoch 85/100\n",
      "670/670 [==============================] - 0s 58us/step - loss: 0.6144 - acc: 0.6776\n",
      "Epoch 86/100\n",
      "670/670 [==============================] - 0s 60us/step - loss: 0.6142 - acc: 0.6806\n",
      "Epoch 87/100\n",
      "670/670 [==============================] - 0s 51us/step - loss: 0.6144 - acc: 0.6836\n",
      "Epoch 88/100\n",
      "670/670 [==============================] - 0s 52us/step - loss: 0.6142 - acc: 0.6806\n",
      "Epoch 89/100\n",
      "670/670 [==============================] - 0s 64us/step - loss: 0.6141 - acc: 0.6821\n",
      "Epoch 90/100\n",
      "670/670 [==============================] - 0s 63us/step - loss: 0.6140 - acc: 0.6806\n",
      "Epoch 91/100\n",
      "670/670 [==============================] - 0s 69us/step - loss: 0.6137 - acc: 0.6806\n",
      "Epoch 92/100\n",
      "670/670 [==============================] - 0s 67us/step - loss: 0.6138 - acc: 0.6821\n",
      "Epoch 93/100\n",
      "670/670 [==============================] - 0s 61us/step - loss: 0.6140 - acc: 0.6806\n",
      "Epoch 94/100\n",
      "670/670 [==============================] - 0s 64us/step - loss: 0.6137 - acc: 0.6851\n",
      "Epoch 95/100\n",
      "670/670 [==============================] - 0s 66us/step - loss: 0.6135 - acc: 0.6866\n",
      "Epoch 96/100\n",
      "670/670 [==============================] - 0s 66us/step - loss: 0.6136 - acc: 0.6925\n",
      "Epoch 97/100\n",
      "670/670 [==============================] - 0s 70us/step - loss: 0.6134 - acc: 0.6896\n",
      "Epoch 98/100\n",
      "670/670 [==============================] - 0s 64us/step - loss: 0.6135 - acc: 0.6866\n",
      "Epoch 99/100\n",
      "670/670 [==============================] - 0s 66us/step - loss: 0.6135 - acc: 0.6851\n",
      "Epoch 100/100\n",
      "670/670 [==============================] - 0s 63us/step - loss: 0.6134 - acc: 0.6881\n",
      "288/288 [==============================] - 0s 480us/step\n"
     ]
    }
   ],
   "source": [
    "history = model.fit(x_train,y_train,epochs = 100)\n",
    "res = model.evaluate(x_test,y_test)"
   ]
  },
  {
   "cell_type": "code",
   "execution_count": 82,
   "metadata": {},
   "outputs": [],
   "source": [
    "his = pd.DataFrame(history.history)"
   ]
  },
  {
   "cell_type": "code",
   "execution_count": 83,
   "metadata": {},
   "outputs": [
    {
     "data": {
      "text/plain": [
       "<matplotlib.axes._subplots.AxesSubplot at 0xcbe71b4748>"
      ]
     },
     "execution_count": 83,
     "metadata": {},
     "output_type": "execute_result"
    },
    {
     "data": {
      "image/png": "[encoded data removed]",
      "text/plain": [
       "<Figure size 432x288 with 1 Axes>"
      ]
     },
     "metadata": {},
     "output_type": "display_data"
    }
   ],
   "source": [
    "his.plot()"
   ]
  },
  {
   "cell_type": "code",
   "execution_count": null,
   "metadata": {},
   "outputs": [],
   "source": []
  }
 ],
 "metadata": {
  "kernelspec": {
   "display_name": "Python 3",
   "language": "python",
   "name": "python3"
  },
  "language_info": {
   "codemirror_mode": {
    "name": "ipython",
    "version": 3
   },
   "file_extension": ".py",
   "mimetype": "text/x-python",
   "name": "python",
   "nbconvert_exporter": "python",
   "pygments_lexer": "ipython3",
   "version": "3.6.5"
  }
 },
 "nbformat": 4,
 "nbformat_minor": 2
}
